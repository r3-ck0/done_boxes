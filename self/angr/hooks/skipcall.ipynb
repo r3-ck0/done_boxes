{
 "cells": [
  {
   "cell_type": "code",
   "execution_count": 44,
   "id": "499d8cc6-357f-4f9a-a32d-36dc0ac39c2a",
   "metadata": {},
   "outputs": [
    {
     "name": "stdout",
     "output_type": "stream",
     "text": [
      "Untitled.ipynb\ta.out  log.txt\tskipcall.c\n"
     ]
    }
   ],
   "source": [
    "!ls ./"
   ]
  },
  {
   "cell_type": "code",
   "execution_count": 45,
   "id": "495d9e98-10c2-4f9a-a4b4-f2f667a561df",
   "metadata": {},
   "outputs": [],
   "source": [
    "from pwn import *"
   ]
  },
  {
   "cell_type": "code",
   "execution_count": 46,
   "id": "f14ac9af-0771-486f-a22f-027d059cdbd5",
   "metadata": {},
   "outputs": [
    {
     "name": "stdout",
     "output_type": "stream",
     "text": [
      "Base addr: 0\n",
      "\n",
      "__abi_tag                                         : 0x37c\n",
      "deregister_tm_clones                              : 0x1070\n",
      "register_tm_clones                                : 0x10a0\n",
      "__do_global_dtors_aux                             : 0x10e0\n",
      "completed.0                                       : 0x4010\n",
      "__do_global_dtors_aux_fini_array_entry            : 0x3e08\n",
      "frame_dummy                                       : 0x1120\n",
      "__frame_dummy_init_array_entry                    : 0x3e00\n",
      "__FRAME_END__                                     : 0x2128\n",
      "_DYNAMIC                                          : 0x3e10\n",
      "__GNU_EH_FRAME_HDR                                : 0x2004\n",
      "_GLOBAL_OFFSET_TABLE_                             : 0x3fe8\n",
      "data_start                                        : 0x4000\n",
      "globx                                             : 0x4014\n",
      "_edata                                            : 0x4010\n",
      "_fini                                             : 0x1178\n",
      "a1                                                : 0x1129\n",
      "__data_start                                      : 0x4000\n",
      "__dso_handle                                      : 0x4008\n",
      "_IO_stdin_used                                    : 0x2000\n",
      "_end                                              : 0x4018\n",
      "_start                                            : 0x1040\n",
      "__bss_start                                       : 0x4010\n",
      "main                                              : 0x114b\n",
      "a2                                                : 0x113a\n",
      "__TMC_END__                                       : 0x4010\n",
      "_init                                             : 0x1000\n",
      "__cxa_finalize                                    : 0x1030\n",
      "plt.__cxa_finalize                                : 0x1030\n",
      "__libc_start_main                                 : 0x3fc0\n",
      "got.__libc_start_main                             : 0x3fc0\n",
      "_ITM_deregisterTMCloneTable                       : 0x3fc8\n",
      "got._ITM_deregisterTMCloneTable                   : 0x3fc8\n",
      "__gmon_start__                                    : 0x3fd0\n",
      "got.__gmon_start__                                : 0x3fd0\n",
      "_ITM_registerTMCloneTable                         : 0x3fd8\n",
      "got._ITM_registerTMCloneTable                     : 0x3fd8\n",
      "got.__cxa_finalize                                : 0x3fe0\n"
     ]
    }
   ],
   "source": [
    "elf = ELF(\"./a.out\")\n",
    "print(f\"Base addr: {elf.address}\")\n",
    "\n",
    "print()\n",
    "\n",
    "for k,v in elf.symbols.items():\n",
    "    print(f\"{k.ljust(50)}: 0x{v:x}\")"
   ]
  },
  {
   "cell_type": "markdown",
   "id": "25bac902-4c3b-4fd9-b6c4-a47f496d0d11",
   "metadata": {},
   "source": [
    "##### !objdump -d ./a.out"
   ]
  },
  {
   "cell_type": "code",
   "execution_count": 48,
   "id": "8aca14cf-c83f-41ed-bebc-2b1616dd1eda",
   "metadata": {},
   "outputs": [],
   "source": [
    "import angr, claripy"
   ]
  },
  {
   "cell_type": "code",
   "execution_count": 50,
   "id": "f19445cb-9f74-43d6-af3e-cfc4560040d0",
   "metadata": {},
   "outputs": [],
   "source": [
    "p = angr.Project(\"./a.out\", main_opts={'base_addr': elf.address}, auto_load_libs=False)\n",
    "\n",
    "ipt_val = claripy.BVS(\"ipt_val\", 4*8)\n",
    "s = p.factory.entry_state(addr=elf.symbols[\"main\"])\n",
    "s.memory.store(elf.symbols[\"globx\"], ipt_val.reversed, 4)\n",
    "\n",
    "sm = p.factory.simgr(s)"
   ]
  },
  {
   "cell_type": "code",
   "execution_count": 51,
   "id": "6782e1a5-4b89-4286-95bc-b3f2378445f6",
   "metadata": {},
   "outputs": [
    {
     "data": {
      "text/plain": [
       "<SimulationManager with 1 found, 1 avoid>"
      ]
     },
     "execution_count": 51,
     "metadata": {},
     "output_type": "execute_result"
    }
   ],
   "source": [
    "sm.explore(find=0x116a, avoid=0x1171)"
   ]
  },
  {
   "cell_type": "code",
   "execution_count": 52,
   "id": "387bc177-ed0d-4646-a33a-45b92933efdd",
   "metadata": {},
   "outputs": [
    {
     "data": {
      "text/plain": [
       "'de144756'"
      ]
     },
     "execution_count": 52,
     "metadata": {},
     "output_type": "execute_result"
    }
   ],
   "source": [
    "f\"{sm.found[0].solver.eval(ipt_val):x}\""
   ]
  },
  {
   "cell_type": "code",
   "execution_count": 57,
   "id": "778bd8bc-ce0c-4578-9579-eb890db9b2f8",
   "metadata": {},
   "outputs": [
    {
     "name": "stderr",
     "output_type": "stream",
     "text": [
      "WARNING  | 2024-06-12 21:45:37,536 | angr.project   | Address is already hooked, during hook(0x115c, <function nothing at 0x7f7ed075d440>). Not re-hooking.\n"
     ]
    }
   ],
   "source": [
    "def nothing(state):\n",
    "    pass\n",
    "\n",
    "p = angr.Project(\"./a.out\", main_opts={'base_addr': elf.address}, auto_load_libs=False)\n",
    "p.hook(0x115c, nothing, length=0x1163-0x115c)\n",
    "\n",
    "ipt_val = claripy.BVS(\"ipt_val\", 4*8)\n",
    "s = p.factory.entry_state(addr=elf.symbols[\"main\"])\n",
    "s.memory.store(elf.symbols[\"globx\"], ipt_val.reversed, 4)\n",
    "\n",
    "sm = p.factory.simgr(s)"
   ]
  },
  {
   "cell_type": "code",
   "execution_count": 58,
   "id": "a3638d38-be1a-43e0-bc8f-a049910b3f38",
   "metadata": {},
   "outputs": [
    {
     "data": {
      "text/plain": [
       "<SimulationManager with 1 found, 1 avoid>"
      ]
     },
     "execution_count": 58,
     "metadata": {},
     "output_type": "execute_result"
    }
   ],
   "source": [
    "sm.explore(find=0x116a, avoid=0x1171)"
   ]
  },
  {
   "cell_type": "code",
   "execution_count": 59,
   "id": "d5d4d385-9e55-4cc0-ba69-713c61509f24",
   "metadata": {},
   "outputs": [
    {
     "data": {
      "text/plain": [
       "'de067300'"
      ]
     },
     "execution_count": 59,
     "metadata": {},
     "output_type": "execute_result"
    }
   ],
   "source": [
    "f\"{sm.found[0].solver.eval(ipt_val):x}\""
   ]
  },
  {
   "cell_type": "code",
   "execution_count": 60,
   "id": "5b0e20fa-c59e-4480-b914-44cf1112d834",
   "metadata": {},
   "outputs": [
    {
     "name": "stdout",
     "output_type": "stream",
     "text": [
      "de144756\n",
      "debf8ab9\n",
      "de067300\n"
     ]
    }
   ],
   "source": [
    "print(f\"{0xdeadbeef ^ 0xabcdef ^ 0x123456:x}\")\n",
    "print(f\"{0xdeadbeef ^ 0x123456:x}\")\n",
    "print(f\"{0xdeadbeef ^ 0xabcdef:x}\")"
   ]
  },
  {
   "cell_type": "code",
   "execution_count": 61,
   "id": "7b3297b8-e564-49ba-b018-6bc217ef9a5f",
   "metadata": {},
   "outputs": [],
   "source": [
    "def nothing(state):\n",
    "    pass\n",
    "\n",
    "p = angr.Project(\"./a.out\", main_opts={'base_addr': elf.address}, auto_load_libs=False)\n",
    "p.hook(0x1155, nothing, length=0x115c-0x1155)\n",
    "\n",
    "ipt_val = claripy.BVS(\"ipt_val\", 4*8)\n",
    "s = p.factory.entry_state(addr=elf.symbols[\"main\"])\n",
    "s.memory.store(elf.symbols[\"globx\"], ipt_val.reversed, 4)\n",
    "\n",
    "sm = p.factory.simgr(s)"
   ]
  },
  {
   "cell_type": "code",
   "execution_count": 62,
   "id": "e4b79fec-c85a-4162-b045-fa324ca93d62",
   "metadata": {},
   "outputs": [
    {
     "data": {
      "text/plain": [
       "'debf8ab9'"
      ]
     },
     "execution_count": 62,
     "metadata": {},
     "output_type": "execute_result"
    }
   ],
   "source": [
    "sm.explore(find=0x116a, avoid=0x1171)\n",
    "f\"{sm.found[0].solver.eval(ipt_val):x}\""
   ]
  },
  {
   "cell_type": "code",
   "execution_count": null,
   "id": "c562e89b-c6da-4efd-a7e2-f9e091df9538",
   "metadata": {},
   "outputs": [],
   "source": []
  }
 ],
 "metadata": {
  "kernelspec": {
   "display_name": "Python 3 (ipykernel)",
   "language": "python",
   "name": "python3"
  },
  "language_info": {
   "codemirror_mode": {
    "name": "ipython",
    "version": 3
   },
   "file_extension": ".py",
   "mimetype": "text/x-python",
   "name": "python",
   "nbconvert_exporter": "python",
   "pygments_lexer": "ipython3",
   "version": "3.11.9"
  }
 },
 "nbformat": 4,
 "nbformat_minor": 5
}
