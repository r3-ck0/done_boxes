{
 "cells": [
  {
   "cell_type": "code",
   "execution_count": 5,
   "id": "9396deee-aa39-48c3-b251-3915a65548de",
   "metadata": {},
   "outputs": [],
   "source": [
    "import angr, claripy\n",
    "from pwn import *"
   ]
  },
  {
   "cell_type": "code",
   "execution_count": 6,
   "id": "9a251809-5869-403e-9e21-63abb3ce505b",
   "metadata": {},
   "outputs": [
    {
     "name": "stdout",
     "output_type": "stream",
     "text": [
      "\n",
      "p3:     file format elf64-x86-64\n",
      "\n",
      "\n",
      "Disassembly of section .init:\n",
      "\n",
      "0000000000001000 <_init>:\n",
      "    1000:\t48 83 ec 08          \tsub    $0x8,%rsp\n",
      "    1004:\t48 8b 05 c5 2f 00 00 \tmov    0x2fc5(%rip),%rax        # 3fd0 <__gmon_start__@Base>\n",
      "    100b:\t48 85 c0             \ttest   %rax,%rax\n",
      "    100e:\t74 02                \tje     1012 <_init+0x12>\n",
      "    1010:\tff d0                \tcall   *%rax\n",
      "    1012:\t48 83 c4 08          \tadd    $0x8,%rsp\n",
      "    1016:\tc3                   \tret\n",
      "\n",
      "Disassembly of section .plt:\n",
      "\n",
      "0000000000001020 <printf@plt-0x10>:\n",
      "    1020:\tff 35 ca 2f 00 00    \tpush   0x2fca(%rip)        # 3ff0 <_GLOBAL_OFFSET_TABLE_+0x8>\n",
      "    1026:\tff 25 cc 2f 00 00    \tjmp    *0x2fcc(%rip)        # 3ff8 <_GLOBAL_OFFSET_TABLE_+0x10>\n",
      "    102c:\t0f 1f 40 00          \tnopl   0x0(%rax)\n",
      "\n",
      "0000000000001030 <printf@plt>:\n",
      "    1030:\tff 25 ca 2f 00 00    \tjmp    *0x2fca(%rip)        # 4000 <printf@GLIBC_2.2.5>\n",
      "    1036:\t68 00 00 00 00       \tpush   $0x0\n",
      "    103b:\te9 e0 ff ff ff       \tjmp    1020 <_init+0x20>\n",
      "\n",
      "Disassembly of section .plt.got:\n",
      "\n",
      "0000000000001040 <__cxa_finalize@plt>:\n",
      "    1040:\tff 25 9a 2f 00 00    \tjmp    *0x2f9a(%rip)        # 3fe0 <__cxa_finalize@GLIBC_2.2.5>\n",
      "    1046:\t66 90                \txchg   %ax,%ax\n",
      "\n",
      "Disassembly of section .text:\n",
      "\n",
      "0000000000001050 <_start>:\n",
      "    1050:\t31 ed                \txor    %ebp,%ebp\n",
      "    1052:\t49 89 d1             \tmov    %rdx,%r9\n",
      "    1055:\t5e                   \tpop    %rsi\n",
      "    1056:\t48 89 e2             \tmov    %rsp,%rdx\n",
      "    1059:\t48 83 e4 f0          \tand    $0xfffffffffffffff0,%rsp\n",
      "    105d:\t50                   \tpush   %rax\n",
      "    105e:\t54                   \tpush   %rsp\n",
      "    105f:\t45 31 c0             \txor    %r8d,%r8d\n",
      "    1062:\t31 c9                \txor    %ecx,%ecx\n",
      "    1064:\t48 8d 3d e1 00 00 00 \tlea    0xe1(%rip),%rdi        # 114c <main>\n",
      "    106b:\tff 15 4f 2f 00 00    \tcall   *0x2f4f(%rip)        # 3fc0 <__libc_start_main@GLIBC_2.34>\n",
      "    1071:\tf4                   \thlt\n",
      "    1072:\t66 2e 0f 1f 84 00 00 \tcs nopw 0x0(%rax,%rax,1)\n",
      "    1079:\t00 00 00 \n",
      "    107c:\t0f 1f 40 00          \tnopl   0x0(%rax)\n",
      "\n",
      "0000000000001080 <deregister_tm_clones>:\n",
      "    1080:\t48 8d 3d 91 2f 00 00 \tlea    0x2f91(%rip),%rdi        # 4018 <__TMC_END__>\n",
      "    1087:\t48 8d 05 8a 2f 00 00 \tlea    0x2f8a(%rip),%rax        # 4018 <__TMC_END__>\n",
      "    108e:\t48 39 f8             \tcmp    %rdi,%rax\n",
      "    1091:\t74 15                \tje     10a8 <deregister_tm_clones+0x28>\n",
      "    1093:\t48 8b 05 2e 2f 00 00 \tmov    0x2f2e(%rip),%rax        # 3fc8 <_ITM_deregisterTMCloneTable@Base>\n",
      "    109a:\t48 85 c0             \ttest   %rax,%rax\n",
      "    109d:\t74 09                \tje     10a8 <deregister_tm_clones+0x28>\n",
      "    109f:\tff e0                \tjmp    *%rax\n",
      "    10a1:\t0f 1f 80 00 00 00 00 \tnopl   0x0(%rax)\n",
      "    10a8:\tc3                   \tret\n",
      "    10a9:\t0f 1f 80 00 00 00 00 \tnopl   0x0(%rax)\n",
      "\n",
      "00000000000010b0 <register_tm_clones>:\n",
      "    10b0:\t48 8d 3d 61 2f 00 00 \tlea    0x2f61(%rip),%rdi        # 4018 <__TMC_END__>\n",
      "    10b7:\t48 8d 35 5a 2f 00 00 \tlea    0x2f5a(%rip),%rsi        # 4018 <__TMC_END__>\n",
      "    10be:\t48 29 fe             \tsub    %rdi,%rsi\n",
      "    10c1:\t48 89 f0             \tmov    %rsi,%rax\n",
      "    10c4:\t48 c1 ee 3f          \tshr    $0x3f,%rsi\n",
      "    10c8:\t48 c1 f8 03          \tsar    $0x3,%rax\n",
      "    10cc:\t48 01 c6             \tadd    %rax,%rsi\n",
      "    10cf:\t48 d1 fe             \tsar    $1,%rsi\n",
      "    10d2:\t74 14                \tje     10e8 <register_tm_clones+0x38>\n",
      "    10d4:\t48 8b 05 fd 2e 00 00 \tmov    0x2efd(%rip),%rax        # 3fd8 <_ITM_registerTMCloneTable@Base>\n",
      "    10db:\t48 85 c0             \ttest   %rax,%rax\n",
      "    10de:\t74 08                \tje     10e8 <register_tm_clones+0x38>\n",
      "    10e0:\tff e0                \tjmp    *%rax\n",
      "    10e2:\t66 0f 1f 44 00 00    \tnopw   0x0(%rax,%rax,1)\n",
      "    10e8:\tc3                   \tret\n",
      "    10e9:\t0f 1f 80 00 00 00 00 \tnopl   0x0(%rax)\n",
      "\n",
      "00000000000010f0 <__do_global_dtors_aux>:\n",
      "    10f0:\tf3 0f 1e fa          \tendbr64\n",
      "    10f4:\t80 3d 1d 2f 00 00 00 \tcmpb   $0x0,0x2f1d(%rip)        # 4018 <__TMC_END__>\n",
      "    10fb:\t75 2b                \tjne    1128 <__do_global_dtors_aux+0x38>\n",
      "    10fd:\t55                   \tpush   %rbp\n",
      "    10fe:\t48 83 3d da 2e 00 00 \tcmpq   $0x0,0x2eda(%rip)        # 3fe0 <__cxa_finalize@GLIBC_2.2.5>\n",
      "    1105:\t00 \n",
      "    1106:\t48 89 e5             \tmov    %rsp,%rbp\n",
      "    1109:\t74 0c                \tje     1117 <__do_global_dtors_aux+0x27>\n",
      "    110b:\t48 8b 3d fe 2e 00 00 \tmov    0x2efe(%rip),%rdi        # 4010 <__dso_handle>\n",
      "    1112:\te8 29 ff ff ff       \tcall   1040 <__cxa_finalize@plt>\n",
      "    1117:\te8 64 ff ff ff       \tcall   1080 <deregister_tm_clones>\n",
      "    111c:\tc6 05 f5 2e 00 00 01 \tmovb   $0x1,0x2ef5(%rip)        # 4018 <__TMC_END__>\n",
      "    1123:\t5d                   \tpop    %rbp\n",
      "    1124:\tc3                   \tret\n",
      "    1125:\t0f 1f 00             \tnopl   (%rax)\n",
      "    1128:\tc3                   \tret\n",
      "    1129:\t0f 1f 80 00 00 00 00 \tnopl   0x0(%rax)\n",
      "\n",
      "0000000000001130 <frame_dummy>:\n",
      "    1130:\tf3 0f 1e fa          \tendbr64\n",
      "    1134:\te9 77 ff ff ff       \tjmp    10b0 <register_tm_clones>\n",
      "\n",
      "0000000000001139 <killer>:\n",
      "    1139:\t55                   \tpush   %rbp\n",
      "    113a:\t48 89 e5             \tmov    %rsp,%rbp\n",
      "    113d:\t89 7d ec             \tmov    %edi,-0x14(%rbp)\n",
      "    1140:\tc7 45 fc 93 da 58 00 \tmovl   $0x58da93,-0x4(%rbp)\n",
      "    1147:\t8b 45 fc             \tmov    -0x4(%rbp),%eax\n",
      "    114a:\t5d                   \tpop    %rbp\n",
      "    114b:\tc3                   \tret\n",
      "\n",
      "000000000000114c <main>:\n",
      "    114c:\t55                   \tpush   %rbp\n",
      "    114d:\t48 89 e5             \tmov    %rsp,%rbp\n",
      "    1150:\t48 83 ec 10          \tsub    $0x10,%rsp\n",
      "    1154:\tc7 45 fc 7b 00 00 00 \tmovl   $0x7b,-0x4(%rbp)\n",
      "    115b:\t8b 45 fc             \tmov    -0x4(%rbp),%eax\n",
      "    115e:\t89 c7                \tmov    %eax,%edi\n",
      "    1160:\tb8 00 00 00 00       \tmov    $0x0,%eax\n",
      "    1165:\te8 cf ff ff ff       \tcall   1139 <killer>\n",
      "    116a:\t39 45 fc             \tcmp    %eax,-0x4(%rbp)\n",
      "    116d:\t75 16                \tjne    1185 <main+0x39>\n",
      "    116f:\t48 8d 05 8e 0e 00 00 \tlea    0xe8e(%rip),%rax        # 2004 <_IO_stdin_used+0x4>\n",
      "    1176:\t48 89 c7             \tmov    %rax,%rdi\n",
      "    1179:\tb8 00 00 00 00       \tmov    $0x0,%eax\n",
      "    117e:\te8 ad fe ff ff       \tcall   1030 <printf@plt>\n",
      "    1183:\teb 14                \tjmp    1199 <main+0x4d>\n",
      "    1185:\t48 8d 05 82 0e 00 00 \tlea    0xe82(%rip),%rax        # 200e <_IO_stdin_used+0xe>\n",
      "    118c:\t48 89 c7             \tmov    %rax,%rdi\n",
      "    118f:\tb8 00 00 00 00       \tmov    $0x0,%eax\n",
      "    1194:\te8 97 fe ff ff       \tcall   1030 <printf@plt>\n",
      "    1199:\tb8 00 00 00 00       \tmov    $0x0,%eax\n",
      "    119e:\tc9                   \tleave\n",
      "    119f:\tc3                   \tret\n",
      "\n",
      "Disassembly of section .fini:\n",
      "\n",
      "00000000000011a0 <_fini>:\n",
      "    11a0:\t48 83 ec 08          \tsub    $0x8,%rsp\n",
      "    11a4:\t48 83 c4 08          \tadd    $0x8,%rsp\n",
      "    11a8:\tc3                   \tret\n"
     ]
    }
   ],
   "source": [
    "!objdump -d p3"
   ]
  },
  {
   "cell_type": "code",
   "execution_count": 45,
   "id": "d43669c4-f0de-4451-8f0a-320b60f3279a",
   "metadata": {},
   "outputs": [],
   "source": [
    "elf = ELF(\"./p3\")"
   ]
  },
  {
   "cell_type": "code",
   "execution_count": 46,
   "id": "a65140eb-1474-4103-8d69-0f20049e018a",
   "metadata": {},
   "outputs": [],
   "source": [
    "p = angr.Project(\"./p3\", auto_load_libs=False, main_opts={'base_addr': 0x0})"
   ]
  },
  {
   "cell_type": "code",
   "execution_count": 52,
   "id": "146260d7-8cf8-40c1-8dcf-997e38463548",
   "metadata": {},
   "outputs": [
    {
     "name": "stderr",
     "output_type": "stream",
     "text": [
      "WARNING  | 2024-06-13 20:24:16,743 | angr.project   | Address is already hooked, during hook(0x1139, <SimProcedure input_returner>). Re-hooking.\n"
     ]
    },
    {
     "data": {
      "text/plain": [
       "4409"
      ]
     },
     "execution_count": 52,
     "metadata": {},
     "output_type": "execute_result"
    }
   ],
   "source": [
    "class input_returner(angr.SimProcedure):\n",
    "    def run(self, inval):\n",
    "        return inval * 3\n",
    "\n",
    "p.hook_symbol('killer', input_returner())"
   ]
  },
  {
   "cell_type": "code",
   "execution_count": 53,
   "id": "a1bcb723-0f51-4972-849a-94cebe9c7ec8",
   "metadata": {},
   "outputs": [],
   "source": [
    "s = p.factory.entry_state(addr=elf.symbols[\"main\"])\n",
    "sm = p.factory.simgr(s)"
   ]
  },
  {
   "cell_type": "code",
   "execution_count": 54,
   "id": "d24e5cc7-8cc1-4797-82ef-5a9a02661870",
   "metadata": {},
   "outputs": [],
   "source": [
    "results = sm.explore(find=lambda s: b\"Good\" in s.posix.dumps(1), avoid=lambda s: b\"Bad\" in s.posix.dumps(1))"
   ]
  },
  {
   "cell_type": "code",
   "execution_count": 55,
   "id": "f7237efd-357d-46ab-9c28-796e154e5c26",
   "metadata": {},
   "outputs": [
    {
     "data": {
      "text/plain": [
       "<SimulationManager with 1 found>"
      ]
     },
     "execution_count": 55,
     "metadata": {},
     "output_type": "execute_result"
    }
   ],
   "source": [
    "results"
   ]
  },
  {
   "cell_type": "code",
   "execution_count": 56,
   "id": "fac195ad-c9d5-4c35-8cb9-ff867fc8f4f0",
   "metadata": {},
   "outputs": [
    {
     "data": {
      "text/plain": [
       "[b'Good job!']"
      ]
     },
     "execution_count": 56,
     "metadata": {},
     "output_type": "execute_result"
    }
   ],
   "source": [
    "results.found[0].posix.stdout.concretize()"
   ]
  },
  {
   "cell_type": "code",
   "execution_count": null,
   "id": "818a3466-8ab3-4fcf-848b-9f95beb2e15d",
   "metadata": {},
   "outputs": [],
   "source": []
  }
 ],
 "metadata": {
  "kernelspec": {
   "display_name": "Python 3 (ipykernel)",
   "language": "python",
   "name": "python3"
  },
  "language_info": {
   "codemirror_mode": {
    "name": "ipython",
    "version": 3
   },
   "file_extension": ".py",
   "mimetype": "text/x-python",
   "name": "python",
   "nbconvert_exporter": "python",
   "pygments_lexer": "ipython3",
   "version": "3.11.9"
  }
 },
 "nbformat": 4,
 "nbformat_minor": 5
}
