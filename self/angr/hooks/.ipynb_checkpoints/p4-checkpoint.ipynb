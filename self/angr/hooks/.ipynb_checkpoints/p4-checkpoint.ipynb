{
 "cells": [
  {
   "cell_type": "code",
   "execution_count": 26,
   "id": "49ac08c0-a960-40df-8920-05bc74a55d1b",
   "metadata": {},
   "outputs": [],
   "source": [
    "import angr,claripy\n",
    "from pwn import *"
   ]
  },
  {
   "cell_type": "code",
   "execution_count": 27,
   "id": "28a2b8e6-b53b-42d5-93f8-f2bac2792ad0",
   "metadata": {},
   "outputs": [
    {
     "name": "stdout",
     "output_type": "stream",
     "text": [
      "\n",
      "p4:     file format elf64-x86-64\n",
      "\n",
      "\n",
      "Disassembly of section .init:\n",
      "\n",
      "0000000000001000 <_init>:\n",
      "    1000:\t48 83 ec 08          \tsub    $0x8,%rsp\n",
      "    1004:\t48 8b 05 c5 2f 00 00 \tmov    0x2fc5(%rip),%rax        # 3fd0 <__gmon_start__@Base>\n",
      "    100b:\t48 85 c0             \ttest   %rax,%rax\n",
      "    100e:\t74 02                \tje     1012 <_init+0x12>\n",
      "    1010:\tff d0                \tcall   *%rax\n",
      "    1012:\t48 83 c4 08          \tadd    $0x8,%rsp\n",
      "    1016:\tc3                   \tret\n",
      "\n",
      "Disassembly of section .plt:\n",
      "\n",
      "0000000000001020 <__isoc99_fscanf@plt-0x10>:\n",
      "    1020:\tff 35 ca 2f 00 00    \tpush   0x2fca(%rip)        # 3ff0 <_GLOBAL_OFFSET_TABLE_+0x8>\n",
      "    1026:\tff 25 cc 2f 00 00    \tjmp    *0x2fcc(%rip)        # 3ff8 <_GLOBAL_OFFSET_TABLE_+0x10>\n",
      "    102c:\t0f 1f 40 00          \tnopl   0x0(%rax)\n",
      "\n",
      "0000000000001030 <__isoc99_fscanf@plt>:\n",
      "    1030:\tff 25 ca 2f 00 00    \tjmp    *0x2fca(%rip)        # 4000 <__isoc99_fscanf@GLIBC_2.7>\n",
      "    1036:\t68 00 00 00 00       \tpush   $0x0\n",
      "    103b:\te9 e0 ff ff ff       \tjmp    1020 <_init+0x20>\n",
      "\n",
      "0000000000001040 <puts@plt>:\n",
      "    1040:\tff 25 c2 2f 00 00    \tjmp    *0x2fc2(%rip)        # 4008 <puts@GLIBC_2.2.5>\n",
      "    1046:\t68 01 00 00 00       \tpush   $0x1\n",
      "    104b:\te9 d0 ff ff ff       \tjmp    1020 <_init+0x20>\n",
      "\n",
      "0000000000001050 <fclose@plt>:\n",
      "    1050:\tff 25 ba 2f 00 00    \tjmp    *0x2fba(%rip)        # 4010 <fclose@GLIBC_2.2.5>\n",
      "    1056:\t68 02 00 00 00       \tpush   $0x2\n",
      "    105b:\te9 c0 ff ff ff       \tjmp    1020 <_init+0x20>\n",
      "\n",
      "0000000000001060 <printf@plt>:\n",
      "    1060:\tff 25 b2 2f 00 00    \tjmp    *0x2fb2(%rip)        # 4018 <printf@GLIBC_2.2.5>\n",
      "    1066:\t68 03 00 00 00       \tpush   $0x3\n",
      "    106b:\te9 b0 ff ff ff       \tjmp    1020 <_init+0x20>\n",
      "\n",
      "0000000000001070 <fputs@plt>:\n",
      "    1070:\tff 25 aa 2f 00 00    \tjmp    *0x2faa(%rip)        # 4020 <fputs@GLIBC_2.2.5>\n",
      "    1076:\t68 04 00 00 00       \tpush   $0x4\n",
      "    107b:\te9 a0 ff ff ff       \tjmp    1020 <_init+0x20>\n",
      "\n",
      "0000000000001080 <strcmp@plt>:\n",
      "    1080:\tff 25 a2 2f 00 00    \tjmp    *0x2fa2(%rip)        # 4028 <strcmp@GLIBC_2.2.5>\n",
      "    1086:\t68 05 00 00 00       \tpush   $0x5\n",
      "    108b:\te9 90 ff ff ff       \tjmp    1020 <_init+0x20>\n",
      "\n",
      "0000000000001090 <fopen@plt>:\n",
      "    1090:\tff 25 9a 2f 00 00    \tjmp    *0x2f9a(%rip)        # 4030 <fopen@GLIBC_2.2.5>\n",
      "    1096:\t68 06 00 00 00       \tpush   $0x6\n",
      "    109b:\te9 80 ff ff ff       \tjmp    1020 <_init+0x20>\n",
      "\n",
      "00000000000010a0 <__isoc99_scanf@plt>:\n",
      "    10a0:\tff 25 92 2f 00 00    \tjmp    *0x2f92(%rip)        # 4038 <__isoc99_scanf@GLIBC_2.7>\n",
      "    10a6:\t68 07 00 00 00       \tpush   $0x7\n",
      "    10ab:\te9 70 ff ff ff       \tjmp    1020 <_init+0x20>\n",
      "\n",
      "Disassembly of section .plt.got:\n",
      "\n",
      "00000000000010b0 <__cxa_finalize@plt>:\n",
      "    10b0:\tff 25 2a 2f 00 00    \tjmp    *0x2f2a(%rip)        # 3fe0 <__cxa_finalize@GLIBC_2.2.5>\n",
      "    10b6:\t66 90                \txchg   %ax,%ax\n",
      "\n",
      "Disassembly of section .text:\n",
      "\n",
      "00000000000010c0 <_start>:\n",
      "    10c0:\t31 ed                \txor    %ebp,%ebp\n",
      "    10c2:\t49 89 d1             \tmov    %rdx,%r9\n",
      "    10c5:\t5e                   \tpop    %rsi\n",
      "    10c6:\t48 89 e2             \tmov    %rsp,%rdx\n",
      "    10c9:\t48 83 e4 f0          \tand    $0xfffffffffffffff0,%rsp\n",
      "    10cd:\t50                   \tpush   %rax\n",
      "    10ce:\t54                   \tpush   %rsp\n",
      "    10cf:\t45 31 c0             \txor    %r8d,%r8d\n",
      "    10d2:\t31 c9                \txor    %ecx,%ecx\n",
      "    10d4:\t48 8d 3d ce 00 00 00 \tlea    0xce(%rip),%rdi        # 11a9 <main>\n",
      "    10db:\tff 15 df 2e 00 00    \tcall   *0x2edf(%rip)        # 3fc0 <__libc_start_main@GLIBC_2.34>\n",
      "    10e1:\tf4                   \thlt\n",
      "    10e2:\t66 2e 0f 1f 84 00 00 \tcs nopw 0x0(%rax,%rax,1)\n",
      "    10e9:\t00 00 00 \n",
      "    10ec:\t0f 1f 40 00          \tnopl   0x0(%rax)\n",
      "\n",
      "00000000000010f0 <deregister_tm_clones>:\n",
      "    10f0:\t48 8d 3d 59 2f 00 00 \tlea    0x2f59(%rip),%rdi        # 4050 <__TMC_END__>\n",
      "    10f7:\t48 8d 05 52 2f 00 00 \tlea    0x2f52(%rip),%rax        # 4050 <__TMC_END__>\n",
      "    10fe:\t48 39 f8             \tcmp    %rdi,%rax\n",
      "    1101:\t74 15                \tje     1118 <deregister_tm_clones+0x28>\n",
      "    1103:\t48 8b 05 be 2e 00 00 \tmov    0x2ebe(%rip),%rax        # 3fc8 <_ITM_deregisterTMCloneTable@Base>\n",
      "    110a:\t48 85 c0             \ttest   %rax,%rax\n",
      "    110d:\t74 09                \tje     1118 <deregister_tm_clones+0x28>\n",
      "    110f:\tff e0                \tjmp    *%rax\n",
      "    1111:\t0f 1f 80 00 00 00 00 \tnopl   0x0(%rax)\n",
      "    1118:\tc3                   \tret\n",
      "    1119:\t0f 1f 80 00 00 00 00 \tnopl   0x0(%rax)\n",
      "\n",
      "0000000000001120 <register_tm_clones>:\n",
      "    1120:\t48 8d 3d 29 2f 00 00 \tlea    0x2f29(%rip),%rdi        # 4050 <__TMC_END__>\n",
      "    1127:\t48 8d 35 22 2f 00 00 \tlea    0x2f22(%rip),%rsi        # 4050 <__TMC_END__>\n",
      "    112e:\t48 29 fe             \tsub    %rdi,%rsi\n",
      "    1131:\t48 89 f0             \tmov    %rsi,%rax\n",
      "    1134:\t48 c1 ee 3f          \tshr    $0x3f,%rsi\n",
      "    1138:\t48 c1 f8 03          \tsar    $0x3,%rax\n",
      "    113c:\t48 01 c6             \tadd    %rax,%rsi\n",
      "    113f:\t48 d1 fe             \tsar    $1,%rsi\n",
      "    1142:\t74 14                \tje     1158 <register_tm_clones+0x38>\n",
      "    1144:\t48 8b 05 8d 2e 00 00 \tmov    0x2e8d(%rip),%rax        # 3fd8 <_ITM_registerTMCloneTable@Base>\n",
      "    114b:\t48 85 c0             \ttest   %rax,%rax\n",
      "    114e:\t74 08                \tje     1158 <register_tm_clones+0x38>\n",
      "    1150:\tff e0                \tjmp    *%rax\n",
      "    1152:\t66 0f 1f 44 00 00    \tnopw   0x0(%rax,%rax,1)\n",
      "    1158:\tc3                   \tret\n",
      "    1159:\t0f 1f 80 00 00 00 00 \tnopl   0x0(%rax)\n",
      "\n",
      "0000000000001160 <__do_global_dtors_aux>:\n",
      "    1160:\tf3 0f 1e fa          \tendbr64\n",
      "    1164:\t80 3d e5 2e 00 00 00 \tcmpb   $0x0,0x2ee5(%rip)        # 4050 <__TMC_END__>\n",
      "    116b:\t75 2b                \tjne    1198 <__do_global_dtors_aux+0x38>\n",
      "    116d:\t55                   \tpush   %rbp\n",
      "    116e:\t48 83 3d 6a 2e 00 00 \tcmpq   $0x0,0x2e6a(%rip)        # 3fe0 <__cxa_finalize@GLIBC_2.2.5>\n",
      "    1175:\t00 \n",
      "    1176:\t48 89 e5             \tmov    %rsp,%rbp\n",
      "    1179:\t74 0c                \tje     1187 <__do_global_dtors_aux+0x27>\n",
      "    117b:\t48 8b 3d c6 2e 00 00 \tmov    0x2ec6(%rip),%rdi        # 4048 <__dso_handle>\n",
      "    1182:\te8 29 ff ff ff       \tcall   10b0 <__cxa_finalize@plt>\n",
      "    1187:\te8 64 ff ff ff       \tcall   10f0 <deregister_tm_clones>\n",
      "    118c:\tc6 05 bd 2e 00 00 01 \tmovb   $0x1,0x2ebd(%rip)        # 4050 <__TMC_END__>\n",
      "    1193:\t5d                   \tpop    %rbp\n",
      "    1194:\tc3                   \tret\n",
      "    1195:\t0f 1f 00             \tnopl   (%rax)\n",
      "    1198:\tc3                   \tret\n",
      "    1199:\t0f 1f 80 00 00 00 00 \tnopl   0x0(%rax)\n",
      "\n",
      "00000000000011a0 <frame_dummy>:\n",
      "    11a0:\tf3 0f 1e fa          \tendbr64\n",
      "    11a4:\te9 77 ff ff ff       \tjmp    1120 <register_tm_clones>\n",
      "\n",
      "00000000000011a9 <main>:\n",
      "    11a9:\t55                   \tpush   %rbp\n",
      "    11aa:\t48 89 e5             \tmov    %rsp,%rbp\n",
      "    11ad:\t48 81 ec e0 00 00 00 \tsub    $0xe0,%rsp\n",
      "    11b4:\t48 8d 05 49 0e 00 00 \tlea    0xe49(%rip),%rax        # 2004 <_IO_stdin_used+0x4>\n",
      "    11bb:\t48 89 c7             \tmov    %rax,%rdi\n",
      "    11be:\tb8 00 00 00 00       \tmov    $0x0,%eax\n",
      "    11c3:\te8 98 fe ff ff       \tcall   1060 <printf@plt>\n",
      "    11c8:\t48 8d 45 90          \tlea    -0x70(%rbp),%rax\n",
      "    11cc:\t48 89 c6             \tmov    %rax,%rsi\n",
      "    11cf:\t48 8d 05 3f 0e 00 00 \tlea    0xe3f(%rip),%rax        # 2015 <_IO_stdin_used+0x15>\n",
      "    11d6:\t48 89 c7             \tmov    %rax,%rdi\n",
      "    11d9:\tb8 00 00 00 00       \tmov    $0x0,%eax\n",
      "    11de:\te8 bd fe ff ff       \tcall   10a0 <__isoc99_scanf@plt>\n",
      "    11e3:\t48 8d 05 30 0e 00 00 \tlea    0xe30(%rip),%rax        # 201a <_IO_stdin_used+0x1a>\n",
      "    11ea:\t48 89 c6             \tmov    %rax,%rsi\n",
      "    11ed:\t48 8d 05 28 0e 00 00 \tlea    0xe28(%rip),%rax        # 201c <_IO_stdin_used+0x1c>\n",
      "    11f4:\t48 89 c7             \tmov    %rax,%rdi\n",
      "    11f7:\te8 94 fe ff ff       \tcall   1090 <fopen@plt>\n",
      "    11fc:\t48 89 45 f8          \tmov    %rax,-0x8(%rbp)\n",
      "    1200:\t48 83 7d f8 00       \tcmpq   $0x0,-0x8(%rbp)\n",
      "    1205:\t75 19                \tjne    1220 <main+0x77>\n",
      "    1207:\t48 8d 05 19 0e 00 00 \tlea    0xe19(%rip),%rax        # 2027 <_IO_stdin_used+0x27>\n",
      "    120e:\t48 89 c7             \tmov    %rax,%rdi\n",
      "    1211:\te8 2a fe ff ff       \tcall   1040 <puts@plt>\n",
      "    1216:\tb8 01 00 00 00       \tmov    $0x1,%eax\n",
      "    121b:\te9 ef 00 00 00       \tjmp    130f <main+0x166>\n",
      "    1220:\t48 8b 55 f8          \tmov    -0x8(%rbp),%rdx\n",
      "    1224:\t48 8d 45 90          \tlea    -0x70(%rbp),%rax\n",
      "    1228:\t48 89 d6             \tmov    %rdx,%rsi\n",
      "    122b:\t48 89 c7             \tmov    %rax,%rdi\n",
      "    122e:\te8 3d fe ff ff       \tcall   1070 <fputs@plt>\n",
      "    1233:\t48 8b 45 f8          \tmov    -0x8(%rbp),%rax\n",
      "    1237:\t48 89 c7             \tmov    %rax,%rdi\n",
      "    123a:\te8 11 fe ff ff       \tcall   1050 <fclose@plt>\n",
      "    123f:\t48 8d 05 f5 0d 00 00 \tlea    0xdf5(%rip),%rax        # 203b <_IO_stdin_used+0x3b>\n",
      "    1246:\t48 89 c6             \tmov    %rax,%rsi\n",
      "    1249:\t48 8d 05 cc 0d 00 00 \tlea    0xdcc(%rip),%rax        # 201c <_IO_stdin_used+0x1c>\n",
      "    1250:\t48 89 c7             \tmov    %rax,%rdi\n",
      "    1253:\te8 38 fe ff ff       \tcall   1090 <fopen@plt>\n",
      "    1258:\t48 89 45 f8          \tmov    %rax,-0x8(%rbp)\n",
      "    125c:\t48 83 7d f8 00       \tcmpq   $0x0,-0x8(%rbp)\n",
      "    1261:\t75 19                \tjne    127c <main+0xd3>\n",
      "    1263:\t48 8d 05 bd 0d 00 00 \tlea    0xdbd(%rip),%rax        # 2027 <_IO_stdin_used+0x27>\n",
      "    126a:\t48 89 c7             \tmov    %rax,%rdi\n",
      "    126d:\te8 ce fd ff ff       \tcall   1040 <puts@plt>\n",
      "    1272:\tb8 01 00 00 00       \tmov    $0x1,%eax\n",
      "    1277:\te9 93 00 00 00       \tjmp    130f <main+0x166>\n",
      "    127c:\t48 8d 95 20 ff ff ff \tlea    -0xe0(%rbp),%rdx\n",
      "    1283:\t48 8b 45 f8          \tmov    -0x8(%rbp),%rax\n",
      "    1287:\t48 8d 0d 87 0d 00 00 \tlea    0xd87(%rip),%rcx        # 2015 <_IO_stdin_used+0x15>\n",
      "    128e:\t48 89 ce             \tmov    %rcx,%rsi\n",
      "    1291:\t48 89 c7             \tmov    %rax,%rdi\n",
      "    1294:\tb8 00 00 00 00       \tmov    $0x0,%eax\n",
      "    1299:\te8 92 fd ff ff       \tcall   1030 <__isoc99_fscanf@plt>\n",
      "    129e:\t48 8b 45 f8          \tmov    -0x8(%rbp),%rax\n",
      "    12a2:\t48 89 c7             \tmov    %rax,%rdi\n",
      "    12a5:\te8 a6 fd ff ff       \tcall   1050 <fclose@plt>\n",
      "    12aa:\t48 8d 85 20 ff ff ff \tlea    -0xe0(%rbp),%rax\n",
      "    12b1:\t48 89 c6             \tmov    %rax,%rsi\n",
      "    12b4:\t48 8d 05 82 0d 00 00 \tlea    0xd82(%rip),%rax        # 203d <_IO_stdin_used+0x3d>\n",
      "    12bb:\t48 89 c7             \tmov    %rax,%rdi\n",
      "    12be:\tb8 00 00 00 00       \tmov    $0x0,%eax\n",
      "    12c3:\te8 98 fd ff ff       \tcall   1060 <printf@plt>\n",
      "    12c8:\t48 8d 85 20 ff ff ff \tlea    -0xe0(%rbp),%rax\n",
      "    12cf:\t48 8d 15 75 0d 00 00 \tlea    0xd75(%rip),%rdx        # 204b <_IO_stdin_used+0x4b>\n",
      "    12d6:\t48 89 d6             \tmov    %rdx,%rsi\n",
      "    12d9:\t48 89 c7             \tmov    %rax,%rdi\n",
      "    12dc:\te8 9f fd ff ff       \tcall   1080 <strcmp@plt>\n",
      "    12e1:\t85 c0                \ttest   %eax,%eax\n",
      "    12e3:\t75 16                \tjne    12fb <main+0x152>\n",
      "    12e5:\t48 8d 05 6e 0d 00 00 \tlea    0xd6e(%rip),%rax        # 205a <_IO_stdin_used+0x5a>\n",
      "    12ec:\t48 89 c7             \tmov    %rax,%rdi\n",
      "    12ef:\te8 4c fd ff ff       \tcall   1040 <puts@plt>\n",
      "    12f4:\tb8 00 00 00 00       \tmov    $0x0,%eax\n",
      "    12f9:\teb 14                \tjmp    130f <main+0x166>\n",
      "    12fb:\t48 8d 05 61 0d 00 00 \tlea    0xd61(%rip),%rax        # 2063 <_IO_stdin_used+0x63>\n",
      "    1302:\t48 89 c7             \tmov    %rax,%rdi\n",
      "    1305:\te8 36 fd ff ff       \tcall   1040 <puts@plt>\n",
      "    130a:\tb8 ff ff ff ff       \tmov    $0xffffffff,%eax\n",
      "    130f:\tc9                   \tleave\n",
      "    1310:\tc3                   \tret\n",
      "\n",
      "Disassembly of section .fini:\n",
      "\n",
      "0000000000001314 <_fini>:\n",
      "    1314:\t48 83 ec 08          \tsub    $0x8,%rsp\n",
      "    1318:\t48 83 c4 08          \tadd    $0x8,%rsp\n",
      "    131c:\tc3                   \tret\n"
     ]
    }
   ],
   "source": [
    "!objdump -d p4"
   ]
  },
  {
   "cell_type": "code",
   "execution_count": 43,
   "id": "fcf0cbaa-dd44-4337-918c-ef7d0917f390",
   "metadata": {},
   "outputs": [],
   "source": [
    "elf = ELF(\"./p4\")"
   ]
  },
  {
   "cell_type": "code",
   "execution_count": 44,
   "id": "08157e0d-4d18-415e-92b7-83db23ba0dfa",
   "metadata": {},
   "outputs": [],
   "source": [
    "p = angr.Project(\"./p4\", auto_load_libs=False, main_opts={\"base_addr\": 0x0})"
   ]
  },
  {
   "cell_type": "code",
   "execution_count": 65,
   "id": "1f834a08-b48c-415b-8aaf-263ac14ad171",
   "metadata": {},
   "outputs": [],
   "source": [
    "blabla = claripy.BVS(\"abcd\", 8*40)\n",
    "\n",
    "s = p.factory.blank_state(addr=elf.symbols[\"main\"])\n",
    "s.options |= {angr.sim_options.CONSTRAINT_TRACKING_IN_SOLVER}\n",
    "\n",
    "sm = p.factory.simgr(s)"
   ]
  },
  {
   "cell_type": "code",
   "execution_count": 66,
   "id": "c8d9fcc3-2892-4ac0-807e-c3cc311192ae",
   "metadata": {},
   "outputs": [
    {
     "name": "stderr",
     "output_type": "stream",
     "text": [
      "WARNING  | 2024-06-13 21:23:05,958 | angr.storage.memory_mixins.default_filler_mixin | Filling register rbp with 8 unconstrained bytes referenced from 0x11a9 (main+0x0 in p4 (0x11a9))\n",
      "WARNING  | 2024-06-13 21:23:06,167 | angr.storage.memory_mixins.default_filler_mixin | Filling memory at 0x7fffffffffeffec with 4 unconstrained bytes referenced from 0x100028 (fputs+0x0 in extern-address space (0x28))\n",
      "WARNING  | 2024-06-13 21:23:06,168 | angr.storage.memory_mixins.default_filler_mixin | Filling memory at 0x7ffffffffff0000 with 9 unconstrained bytes referenced from 0x100028 (fputs+0x0 in extern-address space (0x28))\n",
      "WARNING  | 2024-06-13 21:23:10,335 | angr.storage.memory_mixins.default_filler_mixin | Filling memory at 0x7fffffffffeff7b with 13 unconstrained bytes referenced from 0x100020 (printf+0x0 in extern-address space (0x20))\n"
     ]
    }
   ],
   "source": [
    "r = sm.explore(find=lambda s: b\"Good\" in s.posix.dumps(1), avoid=lambda s: b\"Try\" in s.posix.dumps(1))"
   ]
  },
  {
   "cell_type": "code",
   "execution_count": 67,
   "id": "00882d10-f8e7-4e12-a73c-00fb370459f7",
   "metadata": {},
   "outputs": [
    {
     "data": {
      "text/plain": [
       "<SimulationManager with 1 found, 1 avoid>"
      ]
     },
     "execution_count": 67,
     "metadata": {},
     "output_type": "execute_result"
    }
   ],
   "source": [
    "r"
   ]
  },
  {
   "cell_type": "code",
   "execution_count": 64,
   "id": "adf1111d-bc4c-4dd4-9085-480bdbef8606",
   "metadata": {},
   "outputs": [
    {
     "ename": "IndexError",
     "evalue": "list index out of range",
     "output_type": "error",
     "traceback": [
      "\u001b[0;31m---------------------------------------------------------------------------\u001b[0m",
      "\u001b[0;31mIndexError\u001b[0m                                Traceback (most recent call last)",
      "Cell \u001b[0;32mIn[64], line 1\u001b[0m\n\u001b[0;32m----> 1\u001b[0m \u001b[43mr\u001b[49m\u001b[38;5;241;43m.\u001b[39;49m\u001b[43mfound\u001b[49m\u001b[43m[\u001b[49m\u001b[38;5;241;43m0\u001b[39;49m\u001b[43m]\u001b[49m\u001b[38;5;241m.\u001b[39mposix\u001b[38;5;241m.\u001b[39mstdout\u001b[38;5;241m.\u001b[39mconcretize()\n",
      "\u001b[0;31mIndexError\u001b[0m: list index out of range"
     ]
    }
   ],
   "source": [
    "r.found[0].posix.stdout.concretize()"
   ]
  },
  {
   "cell_type": "code",
   "execution_count": 24,
   "id": "ac10bdab-3f97-423a-9456-79442cf3bdd1",
   "metadata": {},
   "outputs": [
    {
     "data": {
      "text/plain": [
       "()"
      ]
     },
     "execution_count": 24,
     "metadata": {},
     "output_type": "execute_result"
    }
   ],
   "source": [
    "s.solver.unsat_core()"
   ]
  },
  {
   "cell_type": "code",
   "execution_count": null,
   "id": "903485e0-6522-4881-8fd8-d85e446c4104",
   "metadata": {},
   "outputs": [],
   "source": []
  }
 ],
 "metadata": {
  "kernelspec": {
   "display_name": "Python 3 (ipykernel)",
   "language": "python",
   "name": "python3"
  },
  "language_info": {
   "codemirror_mode": {
    "name": "ipython",
    "version": 3
   },
   "file_extension": ".py",
   "mimetype": "text/x-python",
   "name": "python",
   "nbconvert_exporter": "python",
   "pygments_lexer": "ipython3",
   "version": "3.11.9"
  }
 },
 "nbformat": 4,
 "nbformat_minor": 5
}
