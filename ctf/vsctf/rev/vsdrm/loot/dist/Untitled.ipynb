{
 "cells": [
  {
   "cell_type": "code",
   "execution_count": 1,
   "id": "fda755d4-10f4-4b94-a837-80df565752ca",
   "metadata": {},
   "outputs": [],
   "source": [
    "import angr, claripy\n",
    "from pwn import *"
   ]
  },
  {
   "cell_type": "code",
   "execution_count": null,
   "id": "acf0d807-3231-4631-b54a-d942315d7e05",
   "metadata": {},
   "outputs": [],
   "source": []
  }
 ],
 "metadata": {
  "kernelspec": {
   "display_name": "Python 3 (ipykernel)",
   "language": "python",
   "name": "python3"
  },
  "language_info": {
   "codemirror_mode": {
    "name": "ipython",
    "version": 3
   },
   "file_extension": ".py",
   "mimetype": "text/x-python",
   "name": "python",
   "nbconvert_exporter": "python",
   "pygments_lexer": "ipython3",
   "version": "3.11.9"
  }
 },
 "nbformat": 4,
 "nbformat_minor": 5
}
