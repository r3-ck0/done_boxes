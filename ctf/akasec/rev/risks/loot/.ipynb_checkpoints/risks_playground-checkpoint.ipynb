{
 "cells": [
  {
   "cell_type": "code",
   "execution_count": 165,
   "id": "585bb895-8c5d-4863-820b-b585a7be4b1e",
   "metadata": {},
   "outputs": [],
   "source": [
    "import angr, claripy"
   ]
  },
  {
   "cell_type": "code",
   "execution_count": 166,
   "id": "5ef5129b-e4d0-4d8d-8d0f-94cdce2bc47d",
   "metadata": {},
   "outputs": [
    {
     "name": "stdout",
     "output_type": "stream",
     "text": [
      "Untitled.ipynb\ta.out\tchall\t    fn1.c  fn3.c  reversi.c  very_simple.c\n",
      "_c\t\ta2.out\tchall_orig  fn2.c  fn4.c  simple\n"
     ]
    }
   ],
   "source": [
    "!ls ./"
   ]
  },
  {
   "cell_type": "code",
   "execution_count": 167,
   "id": "1c54f9fd-4644-4df6-98c3-5e87519017b1",
   "metadata": {},
   "outputs": [],
   "source": [
    "b = 0x100000\n",
    "p = angr.Project(\"./a.out\", main_opts= {\"base_addr\": b})"
   ]
  },
  {
   "cell_type": "code",
   "execution_count": 168,
   "id": "8e5fa9fc-2ae8-4662-b5ce-589ba3c7e86b",
   "metadata": {},
   "outputs": [],
   "source": [
    "s = p.factory.entry_state(addr=0x1011b3)"
   ]
  },
  {
   "cell_type": "code",
   "execution_count": 173,
   "id": "03275ebb-86d5-4947-bc98-7534a7881fb3",
   "metadata": {},
   "outputs": [],
   "source": [
    "pass0 = claripy.BVS('pass0', 8*8)\n",
    "pass1 = claripy.BVS('pass1', 8*8)\n",
    "pass2 = claripy.BVS('pass2', 8*8)\n",
    "pass3 = claripy.BVS('pass3', 8*8)"
   ]
  },
  {
   "cell_type": "code",
   "execution_count": 174,
   "id": "82194efe-09fe-4ea4-9fca-6ffa158ba32e",
   "metadata": {},
   "outputs": [],
   "source": [
    "s.memory.store(0x0106040, pass0.reversed)\n",
    "s.memory.store(0x0106040+8, pass1.reversed)\n",
    "s.memory.store(0x0106040+16, pass2.reversed)\n",
    "s.memory.store(0x0106040+24, pass3.reversed)"
   ]
  },
  {
   "cell_type": "code",
   "execution_count": 175,
   "id": "f4743be9-970d-44cc-8659-a51a71cd26c1",
   "metadata": {},
   "outputs": [],
   "source": [
    "simgr = p.factory.simulation_manager(s)"
   ]
  },
  {
   "cell_type": "code",
   "execution_count": 176,
   "id": "cb63ce30-079e-47ca-8058-604c403cd09f",
   "metadata": {},
   "outputs": [
    {
     "data": {
      "text/plain": [
       "<SimulationManager with 1 found, 4 avoid>"
      ]
     },
     "execution_count": 176,
     "metadata": {},
     "output_type": "execute_result"
    }
   ],
   "source": [
    "simgr.explore(find=0x1011a5, avoid=0x1011ac)"
   ]
  },
  {
   "cell_type": "code",
   "execution_count": 177,
   "id": "eadbd76f-b214-4a89-aa38-2f8acffe7c10",
   "metadata": {},
   "outputs": [
    {
     "data": {
      "text/plain": [
       "'60f7d734d14e6bd1'"
      ]
     },
     "execution_count": 177,
     "metadata": {},
     "output_type": "execute_result"
    }
   ],
   "source": [
    "f\"{simgr.found[0].solver.eval(pass0):x}\""
   ]
  },
  {
   "cell_type": "code",
   "execution_count": 178,
   "id": "59e0cc17-4519-49fb-8bd6-90b0c785716b",
   "metadata": {},
   "outputs": [
    {
     "data": {
      "text/plain": [
       "'6fdccc7837ff27da'"
      ]
     },
     "execution_count": 178,
     "metadata": {},
     "output_type": "execute_result"
    }
   ],
   "source": [
    "simgr.found[0].solver.eval(pass1, cast_to=bytes).hex()"
   ]
  },
  {
   "cell_type": "code",
   "execution_count": 179,
   "id": "7f70ac89-28b3-4afa-bf5c-c7f4b5ef9c5d",
   "metadata": {},
   "outputs": [
    {
     "data": {
      "text/plain": [
       "'5ea423bbe1292e5f'"
      ]
     },
     "execution_count": 179,
     "metadata": {},
     "output_type": "execute_result"
    }
   ],
   "source": [
    "simgr.found[0].solver.eval(pass2, cast_to=bytes).hex()"
   ]
  },
  {
   "cell_type": "code",
   "execution_count": 180,
   "id": "c4ab4015-995b-4345-9dde-af86a27dbbae",
   "metadata": {},
   "outputs": [
    {
     "data": {
      "text/plain": [
       "'32524203c9ce8d8a'"
      ]
     },
     "execution_count": 180,
     "metadata": {},
     "output_type": "execute_result"
    }
   ],
   "source": [
    "simgr.found[0].solver.eval(pass3, cast_to=bytes).hex()"
   ]
  },
  {
   "cell_type": "code",
   "execution_count": 104,
   "id": "97f161f3-5c2b-46fb-a7a3-0cd8544bc2cc",
   "metadata": {},
   "outputs": [
    {
     "data": {
      "text/plain": [
       "<Endness.LE: 'Iend_LE'>"
      ]
     },
     "execution_count": 104,
     "metadata": {},
     "output_type": "execute_result"
    }
   ],
   "source": [
    "p.arch.memory_endness"
   ]
  },
  {
   "cell_type": "code",
   "execution_count": 126,
   "id": "01c19145-bdd0-4418-9546-976f3a70a01d",
   "metadata": {},
   "outputs": [
    {
     "data": {
      "text/plain": [
       "<SimulationManager with 1 active>"
      ]
     },
     "execution_count": 126,
     "metadata": {},
     "output_type": "execute_result"
    }
   ],
   "source": [
    "simgr.step()"
   ]
  },
  {
   "cell_type": "code",
   "execution_count": 127,
   "id": "cea998f5-7c1c-47fe-bae5-688913d099f0",
   "metadata": {},
   "outputs": [
    {
     "data": {
      "text/plain": [
       "[<SimState @ 0x10127d>]"
      ]
     },
     "execution_count": 127,
     "metadata": {},
     "output_type": "execute_result"
    }
   ],
   "source": [
    "simgr.active"
   ]
  },
  {
   "cell_type": "code",
   "execution_count": 183,
   "id": "d4ae76da-0230-4d80-9be9-552d600f9fb8",
   "metadata": {},
   "outputs": [
    {
     "name": "stdout",
     "output_type": "stream",
     "text": [
      "input.txt  notes.txt  og2_2\t og2_2.id2  og2_3  og2_6  og4  og7\n",
      "log.txt    og1\t      og2_2.id0  og2_2.nam  og2_4  og2_7  og5  og8\n",
      "loot\t   og2\t      og2_2.id1  og2_2.til  og2_5  og3\t  og6  orgalorg_orig1\n"
     ]
    }
   ],
   "source": []
  },
  {
   "cell_type": "code",
   "execution_count": 184,
   "id": "1ddd8b52-69f7-4b88-9108-113257ad01da",
   "metadata": {},
   "outputs": [
    {
     "name": "stderr",
     "output_type": "stream",
     "text": [
      "WARNING  | 2024-06-11 21:58:38,495 | cle.backends.tls.tls_object | The provided object has an invalid tls_data_size. Skip TLS loading.\n",
      "WARNING  | 2024-06-11 21:58:38,495 | cle.backends.tls.tls_object | The provided object has an invalid tls_data_size. Skip TLS loading.\n"
     ]
    }
   ],
   "source": []
  },
  {
   "cell_type": "code",
   "execution_count": 185,
   "id": "7061ad6c-afce-442a-8339-99c9754826f7",
   "metadata": {},
   "outputs": [],
   "source": []
  },
  {
   "cell_type": "code",
   "execution_count": null,
   "id": "b149182c-b3d5-45b6-ac74-411c7854391e",
   "metadata": {},
   "outputs": [],
   "source": []
  }
 ],
 "metadata": {
  "kernelspec": {
   "display_name": "Python 3 (ipykernel)",
   "language": "python",
   "name": "python3"
  },
  "language_info": {
   "codemirror_mode": {
    "name": "ipython",
    "version": 3
   },
   "file_extension": ".py",
   "mimetype": "text/x-python",
   "name": "python",
   "nbconvert_exporter": "python",
   "pygments_lexer": "ipython3",
   "version": "3.11.9"
  }
 },
 "nbformat": 4,
 "nbformat_minor": 5
}
