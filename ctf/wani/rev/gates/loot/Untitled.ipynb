{
 "cells": [
  {
   "cell_type": "code",
   "execution_count": 1,
   "id": "2f6f760c-35c7-4288-a83b-5c43f72bc2b2",
   "metadata": {},
   "outputs": [],
   "source": [
    "import angr, claripy\n",
    "from pwn import *"
   ]
  },
  {
   "cell_type": "code",
   "execution_count": 2,
   "id": "30d8ee9a-acee-4b45-aa26-fa7d1850f03b",
   "metadata": {},
   "outputs": [
    {
     "name": "stdout",
     "output_type": "stream",
     "text": [
      "[*] '/home/kali/machines/ctf/wani/rev/gates/loot/gates'\n",
      "    Arch:     amd64-64-little\n",
      "    RELRO:    Full RELRO\n",
      "    Stack:    No canary found\n",
      "    NX:       NX enabled\n",
      "    PIE:      PIE enabled\n"
     ]
    },
    {
     "name": "stderr",
     "output_type": "stream",
     "text": [
      "INFO     | 2024-06-21 20:27:55,730 | pwnlib.elf.elf | '/home/kali/machines/ctf/wani/rev/gates/loot/gates'\n",
      "Arch:     amd64-64-little\n",
      "RELRO:    Full RELRO\n",
      "Stack:    No canary found\n",
      "NX:       NX enabled\n",
      "PIE:      PIE enabled\n"
     ]
    }
   ],
   "source": [
    "elf = ELF(\"./gates\")"
   ]
  },
  {
   "cell_type": "code",
   "execution_count": 3,
   "id": "6c5f707b-d962-4632-90ae-543af0d493b3",
   "metadata": {},
   "outputs": [
    {
     "name": "stdout",
     "output_type": "stream",
     "text": [
      "\n",
      "./gates:     file format elf64-x86-64\n",
      "\n",
      "\n",
      "Disassembly of section .init:\n",
      "\n",
      "0000000000001000 <.init>:\n",
      "    1000:\tf3 0f 1e fa          \tendbr64\n",
      "    1004:\t48 83 ec 08          \tsub    $0x8,%rsp\n",
      "    1008:\t48 8b 05 d9 2f 00 00 \tmov    0x2fd9(%rip),%rax        # 3fe8 <getc@plt+0x2f78>\n",
      "    100f:\t48 85 c0             \ttest   %rax,%rax\n",
      "    1012:\t74 02                \tje     1016 <__cxa_finalize@plt-0x3a>\n",
      "    1014:\tff d0                \tcall   *%rax\n",
      "    1016:\t48 83 c4 08          \tadd    $0x8,%rsp\n",
      "    101a:\tc3                   \tret\n",
      "\n",
      "Disassembly of section .plt:\n",
      "\n",
      "0000000000001020 <.plt>:\n",
      "    1020:\tff 35 92 2f 00 00    \tpush   0x2f92(%rip)        # 3fb8 <getc@plt+0x2f48>\n",
      "    1026:\tf2 ff 25 93 2f 00 00 \tbnd jmp *0x2f93(%rip)        # 3fc0 <getc@plt+0x2f50>\n",
      "    102d:\t0f 1f 00             \tnopl   (%rax)\n",
      "    1030:\tf3 0f 1e fa          \tendbr64\n",
      "    1034:\t68 00 00 00 00       \tpush   $0x0\n",
      "    1039:\tf2 e9 e1 ff ff ff    \tbnd jmp 1020 <__cxa_finalize@plt-0x30>\n",
      "    103f:\t90                   \tnop\n",
      "    1040:\tf3 0f 1e fa          \tendbr64\n",
      "    1044:\t68 01 00 00 00       \tpush   $0x1\n",
      "    1049:\tf2 e9 d1 ff ff ff    \tbnd jmp 1020 <__cxa_finalize@plt-0x30>\n",
      "    104f:\t90                   \tnop\n",
      "\n",
      "Disassembly of section .plt.got:\n",
      "\n",
      "0000000000001050 <__cxa_finalize@plt>:\n",
      "    1050:\tf3 0f 1e fa          \tendbr64\n",
      "    1054:\tf2 ff 25 9d 2f 00 00 \tbnd jmp *0x2f9d(%rip)        # 3ff8 <getc@plt+0x2f88>\n",
      "    105b:\t0f 1f 44 00 00       \tnopl   0x0(%rax,%rax,1)\n",
      "\n",
      "Disassembly of section .plt.sec:\n",
      "\n",
      "0000000000001060 <puts@plt>:\n",
      "    1060:\tf3 0f 1e fa          \tendbr64\n",
      "    1064:\tf2 ff 25 5d 2f 00 00 \tbnd jmp *0x2f5d(%rip)        # 3fc8 <getc@plt+0x2f58>\n",
      "    106b:\t0f 1f 44 00 00       \tnopl   0x0(%rax,%rax,1)\n",
      "\n",
      "0000000000001070 <getc@plt>:\n",
      "    1070:\tf3 0f 1e fa          \tendbr64\n",
      "    1074:\tf2 ff 25 55 2f 00 00 \tbnd jmp *0x2f55(%rip)        # 3fd0 <getc@plt+0x2f60>\n",
      "    107b:\t0f 1f 44 00 00       \tnopl   0x0(%rax,%rax,1)\n",
      "\n",
      "Disassembly of section .text:\n",
      "\n",
      "0000000000001080 <.text>:\n",
      "    1080:\tf3 0f 1e fa          \tendbr64\n",
      "    1084:\t55                   \tpush   %rbp\n",
      "    1085:\t53                   \tpush   %rbx\n",
      "    1086:\t48 8d 1d bf 2f 00 00 \tlea    0x2fbf(%rip),%rbx        # 404c <getc@plt+0x2fdc>\n",
      "    108d:\t48 8d ab 00 02 00 00 \tlea    0x200(%rbx),%rbp\n",
      "    1094:\t48 83 ec 08          \tsub    $0x8,%rsp\n",
      "    1098:\t0f 1f 84 00 00 00 00 \tnopl   0x0(%rax,%rax,1)\n",
      "    109f:\t00 \n",
      "    10a0:\t48 8b 3d 99 3f 00 00 \tmov    0x3f99(%rip),%rdi        # 5040 <stdin@GLIBC_2.2.5>\n",
      "    10a7:\t48 83 c3 10          \tadd    $0x10,%rbx\n",
      "    10ab:\te8 c0 ff ff ff       \tcall   1070 <getc@plt>\n",
      "    10b0:\tc6 43 f0 01          \tmovb   $0x1,-0x10(%rbx)\n",
      "    10b4:\t88 43 f1             \tmov    %al,-0xf(%rbx)\n",
      "    10b7:\t48 39 eb             \tcmp    %rbp,%rbx\n",
      "    10ba:\t75 e4                \tjne    10a0 <getc@plt+0x30>\n",
      "    10bc:\t41 b8 00 01 00 00    \tmov    $0x100,%r8d\n",
      "    10c2:\t66 0f 1f 44 00 00    \tnopw   0x0(%rax,%rax,1)\n",
      "    10c8:\t31 c0                \txor    %eax,%eax\n",
      "    10ca:\te8 51 01 00 00       \tcall   1220 <getc@plt+0x1b0>\n",
      "    10cf:\t41 83 e8 01          \tsub    $0x1,%r8d\n",
      "    10d3:\t75 f3                \tjne    10c8 <getc@plt+0x58>\n",
      "    10d5:\t48 8d 05 71 3d 00 00 \tlea    0x3d71(%rip),%rax        # 4e4d <getc@plt+0x3ddd>\n",
      "    10dc:\t48 8d 15 3d 2f 00 00 \tlea    0x2f3d(%rip),%rdx        # 4020 <getc@plt+0x2fb0>\n",
      "    10e3:\t48 8d 88 00 02 00 00 \tlea    0x200(%rax),%rcx\n",
      "    10ea:\teb 11                \tjmp    10fd <getc@plt+0x8d>\n",
      "    10ec:\t0f 1f 40 00          \tnopl   0x0(%rax)\n",
      "    10f0:\t48 83 c0 10          \tadd    $0x10,%rax\n",
      "    10f4:\t48 83 c2 01          \tadd    $0x1,%rdx\n",
      "    10f8:\t48 39 c8             \tcmp    %rcx,%rax\n",
      "    10fb:\t74 20                \tje     111d <getc@plt+0xad>\n",
      "    10fd:\t0f b6 32             \tmovzbl (%rdx),%esi\n",
      "    1100:\t40 38 30             \tcmp    %sil,(%rax)\n",
      "    1103:\t74 eb                \tje     10f0 <getc@plt+0x80>\n",
      "    1105:\t48 8d 3d f8 0e 00 00 \tlea    0xef8(%rip),%rdi        # 2004 <getc@plt+0xf94>\n",
      "    110c:\te8 4f ff ff ff       \tcall   1060 <puts@plt>\n",
      "    1111:\tb8 01 00 00 00       \tmov    $0x1,%eax\n",
      "    1116:\t48 83 c4 08          \tadd    $0x8,%rsp\n",
      "    111a:\t5b                   \tpop    %rbx\n",
      "    111b:\t5d                   \tpop    %rbp\n",
      "    111c:\tc3                   \tret\n",
      "    111d:\t48 8d 3d e7 0e 00 00 \tlea    0xee7(%rip),%rdi        # 200b <getc@plt+0xf9b>\n",
      "    1124:\te8 37 ff ff ff       \tcall   1060 <puts@plt>\n",
      "    1129:\t31 c0                \txor    %eax,%eax\n",
      "    112b:\teb e9                \tjmp    1116 <getc@plt+0xa6>\n",
      "    112d:\t0f 1f 00             \tnopl   (%rax)\n",
      "    1130:\tf3 0f 1e fa          \tendbr64\n",
      "    1134:\t31 ed                \txor    %ebp,%ebp\n",
      "    1136:\t49 89 d1             \tmov    %rdx,%r9\n",
      "    1139:\t5e                   \tpop    %rsi\n",
      "    113a:\t48 89 e2             \tmov    %rsp,%rdx\n",
      "    113d:\t48 83 e4 f0          \tand    $0xfffffffffffffff0,%rsp\n",
      "    1141:\t50                   \tpush   %rax\n",
      "    1142:\t54                   \tpush   %rsp\n",
      "    1143:\t45 31 c0             \txor    %r8d,%r8d\n",
      "    1146:\t31 c9                \txor    %ecx,%ecx\n",
      "    1148:\t48 8d 3d 31 ff ff ff \tlea    -0xcf(%rip),%rdi        # 1080 <getc@plt+0x10>\n",
      "    114f:\tff 15 83 2e 00 00    \tcall   *0x2e83(%rip)        # 3fd8 <getc@plt+0x2f68>\n",
      "    1155:\tf4                   \thlt\n",
      "    1156:\t66 2e 0f 1f 84 00 00 \tcs nopw 0x0(%rax,%rax,1)\n",
      "    115d:\t00 00 00 \n",
      "    1160:\t48 8d 3d d9 3e 00 00 \tlea    0x3ed9(%rip),%rdi        # 5040 <stdin@GLIBC_2.2.5>\n",
      "    1167:\t48 8d 05 d2 3e 00 00 \tlea    0x3ed2(%rip),%rax        # 5040 <stdin@GLIBC_2.2.5>\n",
      "    116e:\t48 39 f8             \tcmp    %rdi,%rax\n",
      "    1171:\t74 15                \tje     1188 <getc@plt+0x118>\n",
      "    1173:\t48 8b 05 66 2e 00 00 \tmov    0x2e66(%rip),%rax        # 3fe0 <getc@plt+0x2f70>\n",
      "    117a:\t48 85 c0             \ttest   %rax,%rax\n",
      "    117d:\t74 09                \tje     1188 <getc@plt+0x118>\n",
      "    117f:\tff e0                \tjmp    *%rax\n",
      "    1181:\t0f 1f 80 00 00 00 00 \tnopl   0x0(%rax)\n",
      "    1188:\tc3                   \tret\n",
      "    1189:\t0f 1f 80 00 00 00 00 \tnopl   0x0(%rax)\n",
      "    1190:\t48 8d 3d a9 3e 00 00 \tlea    0x3ea9(%rip),%rdi        # 5040 <stdin@GLIBC_2.2.5>\n",
      "    1197:\t48 8d 35 a2 3e 00 00 \tlea    0x3ea2(%rip),%rsi        # 5040 <stdin@GLIBC_2.2.5>\n",
      "    119e:\t48 29 fe             \tsub    %rdi,%rsi\n",
      "    11a1:\t48 89 f0             \tmov    %rsi,%rax\n",
      "    11a4:\t48 c1 ee 3f          \tshr    $0x3f,%rsi\n",
      "    11a8:\t48 c1 f8 03          \tsar    $0x3,%rax\n",
      "    11ac:\t48 01 c6             \tadd    %rax,%rsi\n",
      "    11af:\t48 d1 fe             \tsar    $1,%rsi\n",
      "    11b2:\t74 14                \tje     11c8 <getc@plt+0x158>\n",
      "    11b4:\t48 8b 05 35 2e 00 00 \tmov    0x2e35(%rip),%rax        # 3ff0 <getc@plt+0x2f80>\n",
      "    11bb:\t48 85 c0             \ttest   %rax,%rax\n",
      "    11be:\t74 08                \tje     11c8 <getc@plt+0x158>\n",
      "    11c0:\tff e0                \tjmp    *%rax\n",
      "    11c2:\t66 0f 1f 44 00 00    \tnopw   0x0(%rax,%rax,1)\n",
      "    11c8:\tc3                   \tret\n",
      "    11c9:\t0f 1f 80 00 00 00 00 \tnopl   0x0(%rax)\n",
      "    11d0:\tf3 0f 1e fa          \tendbr64\n",
      "    11d4:\t80 3d 6d 3e 00 00 00 \tcmpb   $0x0,0x3e6d(%rip)        # 5048 <stdin@GLIBC_2.2.5+0x8>\n",
      "    11db:\t75 2b                \tjne    1208 <getc@plt+0x198>\n",
      "    11dd:\t55                   \tpush   %rbp\n",
      "    11de:\t48 83 3d 12 2e 00 00 \tcmpq   $0x0,0x2e12(%rip)        # 3ff8 <getc@plt+0x2f88>\n",
      "    11e5:\t00 \n",
      "    11e6:\t48 89 e5             \tmov    %rsp,%rbp\n",
      "    11e9:\t74 0c                \tje     11f7 <getc@plt+0x187>\n",
      "    11eb:\t48 8b 3d 16 2e 00 00 \tmov    0x2e16(%rip),%rdi        # 4008 <getc@plt+0x2f98>\n",
      "    11f2:\te8 59 fe ff ff       \tcall   1050 <__cxa_finalize@plt>\n",
      "    11f7:\te8 64 ff ff ff       \tcall   1160 <getc@plt+0xf0>\n",
      "    11fc:\tc6 05 45 3e 00 00 01 \tmovb   $0x1,0x3e45(%rip)        # 5048 <stdin@GLIBC_2.2.5+0x8>\n",
      "    1203:\t5d                   \tpop    %rbp\n",
      "    1204:\tc3                   \tret\n",
      "    1205:\t0f 1f 00             \tnopl   (%rax)\n",
      "    1208:\tc3                   \tret\n",
      "    1209:\t0f 1f 80 00 00 00 00 \tnopl   0x0(%rax)\n",
      "    1210:\tf3 0f 1e fa          \tendbr64\n",
      "    1214:\te9 77 ff ff ff       \tjmp    1190 <getc@plt+0x120>\n",
      "    1219:\t0f 1f 80 00 00 00 00 \tnopl   0x0(%rax)\n",
      "    1220:\tf3 0f 1e fa          \tendbr64\n",
      "    1224:\t48 8d 0d 15 2e 00 00 \tlea    0x2e15(%rip),%rcx        # 4040 <getc@plt+0x2fd0>\n",
      "    122b:\t48 89 c8             \tmov    %rcx,%rax\n",
      "    122e:\t48 8d b1 00 10 00 00 \tlea    0x1000(%rcx),%rsi\n",
      "    1235:\teb 52                \tjmp    1289 <getc@plt+0x219>\n",
      "    1237:\t66 0f 1f 84 00 00 00 \tnopw   0x0(%rax,%rax,1)\n",
      "    123e:\t00 00 \n",
      "    1240:\t83 fa 01             \tcmp    $0x1,%edx\n",
      "    1243:\t74 05                \tje     124a <getc@plt+0x1da>\n",
      "    1245:\t83 fa 02             \tcmp    $0x2,%edx\n",
      "    1248:\t75 36                \tjne    1280 <getc@plt+0x210>\n",
      "    124a:\t48 63 50 04          \tmovslq 0x4(%rax),%rdx\n",
      "    124e:\t48 c1 e2 04          \tshl    $0x4,%rdx\n",
      "    1252:\t48 01 ca             \tadd    %rcx,%rdx\n",
      "    1255:\t80 7a 0c 00          \tcmpb   $0x0,0xc(%rdx)\n",
      "    1259:\t74 25                \tje     1280 <getc@plt+0x210>\n",
      "    125b:\t48 63 78 08          \tmovslq 0x8(%rax),%rdi\n",
      "    125f:\t48 c1 e7 04          \tshl    $0x4,%rdi\n",
      "    1263:\t48 01 cf             \tadd    %rcx,%rdi\n",
      "    1266:\t80 7f 0c 00          \tcmpb   $0x0,0xc(%rdi)\n",
      "    126a:\t74 14                \tje     1280 <getc@plt+0x210>\n",
      "    126c:\t0f b6 7f 0d          \tmovzbl 0xd(%rdi),%edi\n",
      "    1270:\t40 02 7a 0d          \tadd    0xd(%rdx),%dil\n",
      "    1274:\tc6 40 0c 01          \tmovb   $0x1,0xc(%rax)\n",
      "    1278:\t40 88 78 0d          \tmov    %dil,0xd(%rax)\n",
      "    127c:\t0f 1f 40 00          \tnopl   0x0(%rax)\n",
      "    1280:\t48 83 c0 10          \tadd    $0x10,%rax\n",
      "    1284:\t48 39 f0             \tcmp    %rsi,%rax\n",
      "    1287:\t74 33                \tje     12bc <getc@plt+0x24c>\n",
      "    1289:\t8b 10                \tmov    (%rax),%edx\n",
      "    128b:\t83 fa 03             \tcmp    $0x3,%edx\n",
      "    128e:\t74 30                \tje     12c0 <getc@plt+0x250>\n",
      "    1290:\t7e ae                \tjle    1240 <getc@plt+0x1d0>\n",
      "    1292:\t83 fa 04             \tcmp    $0x4,%edx\n",
      "    1295:\t75 e9                \tjne    1280 <getc@plt+0x210>\n",
      "    1297:\t48 63 50 04          \tmovslq 0x4(%rax),%rdx\n",
      "    129b:\t48 c1 e2 04          \tshl    $0x4,%rdx\n",
      "    129f:\t48 01 ca             \tadd    %rcx,%rdx\n",
      "    12a2:\t80 7a 0c 00          \tcmpb   $0x0,0xc(%rdx)\n",
      "    12a6:\t74 d8                \tje     1280 <getc@plt+0x210>\n",
      "    12a8:\t0f b6 52 0d          \tmovzbl 0xd(%rdx),%edx\n",
      "    12ac:\t48 83 c0 10          \tadd    $0x10,%rax\n",
      "    12b0:\tc6 40 fc 01          \tmovb   $0x1,-0x4(%rax)\n",
      "    12b4:\t88 50 fd             \tmov    %dl,-0x3(%rax)\n",
      "    12b7:\t48 39 f0             \tcmp    %rsi,%rax\n",
      "    12ba:\t75 cd                \tjne    1289 <getc@plt+0x219>\n",
      "    12bc:\tc3                   \tret\n",
      "    12bd:\t0f 1f 00             \tnopl   (%rax)\n",
      "    12c0:\t48 63 50 04          \tmovslq 0x4(%rax),%rdx\n",
      "    12c4:\t48 c1 e2 04          \tshl    $0x4,%rdx\n",
      "    12c8:\t48 01 ca             \tadd    %rcx,%rdx\n",
      "    12cb:\t80 7a 0c 00          \tcmpb   $0x0,0xc(%rdx)\n",
      "    12cf:\t74 af                \tje     1280 <getc@plt+0x210>\n",
      "    12d1:\t48 63 78 08          \tmovslq 0x8(%rax),%rdi\n",
      "    12d5:\t48 c1 e7 04          \tshl    $0x4,%rdi\n",
      "    12d9:\t48 01 cf             \tadd    %rcx,%rdi\n",
      "    12dc:\t80 7f 0c 00          \tcmpb   $0x0,0xc(%rdi)\n",
      "    12e0:\t74 9e                \tje     1280 <getc@plt+0x210>\n",
      "    12e2:\t0f b6 52 0d          \tmovzbl 0xd(%rdx),%edx\n",
      "    12e6:\t32 57 0d             \txor    0xd(%rdi),%dl\n",
      "    12e9:\tc6 40 0c 01          \tmovb   $0x1,0xc(%rax)\n",
      "    12ed:\t88 50 0d             \tmov    %dl,0xd(%rax)\n",
      "    12f0:\teb 8e                \tjmp    1280 <getc@plt+0x210>\n",
      "\n",
      "Disassembly of section .fini:\n",
      "\n",
      "00000000000012f4 <.fini>:\n",
      "    12f4:\tf3 0f 1e fa          \tendbr64\n",
      "    12f8:\t48 83 ec 08          \tsub    $0x8,%rsp\n",
      "    12fc:\t48 83 c4 08          \tadd    $0x8,%rsp\n",
      "    1300:\tc3                   \tret\n"
     ]
    }
   ],
   "source": [
    "!objdump -d ./gates"
   ]
  },
  {
   "cell_type": "code",
   "execution_count": 4,
   "id": "ad2f3b9d-db33-4486-80e9-e778e1cc15fd",
   "metadata": {},
   "outputs": [],
   "source": [
    "p = angr.Project(\"./gates\", main_opts={\"base_addr\": 0x100000}, auto_load_libs=False)"
   ]
  },
  {
   "cell_type": "code",
   "execution_count": 5,
   "id": "0cdd187d-1025-4a92-a471-6d324c8235df",
   "metadata": {},
   "outputs": [],
   "source": [
    "s = p.factory.entry_state(addr=0x1010bc)\n",
    "\n",
    "vs = [claripy.BVS(f\"chr{x}\", 8) for x in range(32)]\n",
    "\n",
    "for i, v in enumerate(vs):\n",
    "    s.memory.store(0x10404c + (i * 0x10), 1, 1)\n",
    "    s.memory.store(0x10404c + 1 + (i * 0x10), v, 1)\n",
    "\n",
    "sm = p.factory.simgr(s, veritesting=True)"
   ]
  },
  {
   "cell_type": "code",
   "execution_count": 6,
   "id": "ef6291d3-968d-4866-b435-a00b20864dc3",
   "metadata": {},
   "outputs": [
    {
     "name": "stderr",
     "output_type": "stream",
     "text": [
      "WARNING  | 2024-06-21 20:27:55,979 | angr.storage.memory_mixins.default_filler_mixin | The program is accessing register with an unspecified value. This could indicate unwanted behavior.\n",
      "WARNING  | 2024-06-21 20:27:55,979 | angr.storage.memory_mixins.default_filler_mixin | angr will cope with this by generating an unconstrained symbolic variable and continuing. You can resolve this by:\n",
      "WARNING  | 2024-06-21 20:27:55,980 | angr.storage.memory_mixins.default_filler_mixin | 1) setting a value to the initial state\n",
      "WARNING  | 2024-06-21 20:27:55,980 | angr.storage.memory_mixins.default_filler_mixin | 2) adding the state option ZERO_FILL_UNCONSTRAINED_{MEMORY,REGISTERS}, to make unknown regions hold null\n",
      "WARNING  | 2024-06-21 20:27:55,981 | angr.storage.memory_mixins.default_filler_mixin | 3) adding the state option SYMBOL_FILL_UNCONSTRAINED_{MEMORY,REGISTERS}, to suppress these messages.\n",
      "WARNING  | 2024-06-21 20:27:55,982 | angr.storage.memory_mixins.default_filler_mixin | Filling register ftop with 8 unconstrained bytes referenced from 0x0 (not part of a loaded object)\n",
      "WARNING  | 2024-06-21 20:28:02,405 | angr.storage.memory_mixins.default_filler_mixin | Filling register ftop with 8 unconstrained bytes referenced from 0x0 (not part of a loaded object)\n",
      "WARNING  | 2024-06-21 20:50:35,599 | angr.storage.memory_mixins.default_filler_mixin | Filling register ftop with 8 unconstrained bytes referenced from 0x0 (not part of a loaded object)\n"
     ]
    }
   ],
   "source": [
    "results = sm.explore(find=lambda s: b\"Correct\" in s.posix.dumps(1), avoid=lambda s: b\"Wrong\" in s.posix.dumps(1))"
   ]
  },
  {
   "cell_type": "code",
   "execution_count": 7,
   "id": "49efcfb2-31d1-41f0-89a7-7ebe40c52f09",
   "metadata": {},
   "outputs": [
    {
     "data": {
      "text/plain": [
       "<SimulationManager with 1 found, 1 avoid>"
      ]
     },
     "execution_count": 7,
     "metadata": {},
     "output_type": "execute_result"
    }
   ],
   "source": [
    "results"
   ]
  },
  {
   "cell_type": "code",
   "execution_count": 9,
   "id": "f2c247e4-6b61-4d4f-8746-a331d2c61339",
   "metadata": {},
   "outputs": [
    {
     "data": {
      "text/plain": [
       "65"
      ]
     },
     "execution_count": 9,
     "metadata": {},
     "output_type": "execute_result"
    }
   ],
   "source": [
    "results.avoid[0].solver.eval(vs[2])"
   ]
  },
  {
   "cell_type": "code",
   "execution_count": 15,
   "id": "dbae285d-6df4-4421-b730-951125382826",
   "metadata": {},
   "outputs": [
    {
     "name": "stdout",
     "output_type": "stream",
     "text": [
      "FLAG{INTr0dUction_70_R3v3R$1NG1}"
     ]
    }
   ],
   "source": [
    "for i in range(32):\n",
    "    print(f\"{chr(results.found[0].solver.eval(vs[i]))}\", end=\"\")"
   ]
  },
  {
   "cell_type": "code",
   "execution_count": null,
   "id": "6dfbb1fb-15af-4ad4-abc7-6f61384ec209",
   "metadata": {},
   "outputs": [],
   "source": []
  }
 ],
 "metadata": {
  "kernelspec": {
   "display_name": "Python 3 (ipykernel)",
   "language": "python",
   "name": "python3"
  },
  "language_info": {
   "codemirror_mode": {
    "name": "ipython",
    "version": 3
   },
   "file_extension": ".py",
   "mimetype": "text/x-python",
   "name": "python",
   "nbconvert_exporter": "python",
   "pygments_lexer": "ipython3",
   "version": "3.11.9"
  }
 },
 "nbformat": 4,
 "nbformat_minor": 5
}
